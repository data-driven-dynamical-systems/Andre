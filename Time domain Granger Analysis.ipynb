{
 "cells": [
  {
   "cell_type": "code",
   "execution_count": null,
   "metadata": {},
   "outputs": [],
   "source": [
    "import numpy as np"
   ]
  },
  {
   "cell_type": "code",
   "execution_count": null,
   "metadata": {},
   "outputs": [],
   "source": [
    "def make_VAR_data(X,p):\n",
    "    '''\n",
    "    Creates data to learn a VAR(p) process\n",
    "    \n",
    "    Args:\n",
    "        X: Time series\n",
    "        p: number of time lags\n",
    "        \n",
    "    Returns:\n",
    "        data_mat: \n",
    "        Y = \n",
    "    '''\n",
    "    \n",
    "    # get length of time series\n",
    "    L = X.shape[1]\n",
    "    \n",
    "    # initialize the embedding array matrix\n",
    "    embedding_x =np.zeros((L - p,E))\n",
    "    \n",
    "    i=0\n",
    "    # create embedding matrix\n",
    "    for t in range((E-1)*tau,L):\n",
    "        # create a sequence of numbers between t-(E-1)*tau\n",
    "        # and t+tau spaced by tau\n",
    "    \n",
    "        range_iterable = range(t-(E-1)*tau,t+tau,tau)\n",
    "        \n",
    "        #reverse the order of the sequence and coerce in a list\n",
    "        range_revered_iterable = list(reversed(range_iterable))\n",
    "        \n",
    "        \n",
    "        #put the entries of X at indices, range_revered_iterable,\n",
    "        #in the ith row of embedding_x\n",
    "        \n",
    "        embedding_x[i,:] = X[range_revered_iterable]\n",
    "        i+=1\n",
    "    return embedding_x"
   ]
  }
 ],
 "metadata": {
  "kernelspec": {
   "display_name": "Python 3",
   "language": "python",
   "name": "python3"
  },
  "language_info": {
   "codemirror_mode": {
    "name": "ipython",
    "version": 3
   },
   "file_extension": ".py",
   "mimetype": "text/x-python",
   "name": "python",
   "nbconvert_exporter": "python",
   "pygments_lexer": "ipython3",
   "version": "3.6.5"
  }
 },
 "nbformat": 4,
 "nbformat_minor": 2
}
