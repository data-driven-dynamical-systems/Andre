{
 "cells": [
  {
   "cell_type": "code",
   "execution_count": 1,
   "metadata": {},
   "outputs": [
    {
     "name": "stdout",
     "output_type": "stream",
     "text": [
      "Importing Jupyter notebook from dynamicalModels.ipynb\n"
     ]
    }
   ],
   "source": [
    "import numpy as np\n",
    "import ipdb\n",
    "import matplotlib.pyplot as plt\n",
    "from scipy.integrate import solve_ivp \n",
    "from mpl_toolkits.mplot3d import Axes3D\n",
    "import nbimporter\n",
    "import dynamicalModels as dynamicalModels\n",
    "from sklearn.neighbors import NearestNeighbors\n",
    "from numpy.linalg import norm"
   ]
  },
  {
   "cell_type": "markdown",
   "metadata": {},
   "source": [
    "# Embedding "
   ]
  },
  {
   "cell_type": "code",
   "execution_count": 2,
   "metadata": {},
   "outputs": [],
   "source": [
    "def make_manifold_point(X,E,tau,t):\n",
    "    '''\n",
    "    Creates point on a manifold embedded in R^E by time\n",
    "    delaying the time series X by tau\n",
    "    \n",
    "    Args:\n",
    "        X: Time series\n",
    "        E: Dimension of embedding space\n",
    "        tau: time delay\n",
    "        t: a time point between (E-1)*tau < t < L\n",
    "    Returns:\n",
    "        X[range_revered_iterable]: a point in R^E.\n",
    "    '''\n",
    "    \n",
    "    L = X.shape[0]\n",
    "    range_iterable = range(t-(E-1)*tau,t+tau,tau)\n",
    "    range_revered_iterable = list(reversed(range_iterable))\n",
    "    return X[range_revered_iterable]\n",
    "\n",
    "def make_manifold(X,E,tau):\n",
    "    '''\n",
    "    Creates a manifold embedded in R^E by time\n",
    "    delaying the time series X by tau\n",
    "    \n",
    "    Args:\n",
    "        X: Time series\n",
    "        E: Dimension of embedding space\n",
    "        tau: time delay\n",
    "        \n",
    "    Returns:\n",
    "        embedding_x: a array of L - (E-1)*tau points\n",
    "                    in R^E.\n",
    "    '''\n",
    "    \n",
    "    # get length of time series\n",
    "    L = X.shape[0]\n",
    "    \n",
    "    # initialize the embedding array matrix\n",
    "    embedding_x =np.zeros((L - (E-1)*tau,E))\n",
    "    \n",
    "    i=0\n",
    "    # create embedding matrix\n",
    "    for t in range((E-1)*tau,L):\n",
    "        # create a sequence of numbers between t-(E-1)*tau\n",
    "        # and t+tau spaced by tau\n",
    "    \n",
    "        range_iterable = range(t-(E-1)*tau,t+tau,tau)\n",
    "        \n",
    "        #reverse the order of the sequence and coerce in a list\n",
    "        range_revered_iterable = list(reversed(range_iterable))\n",
    "        \n",
    "        \n",
    "        #put the entries of X at indices, range_revered_iterable,\n",
    "        #in the ith row of embedding_x\n",
    "        \n",
    "        embedding_x[i,:] = X[range_revered_iterable]\n",
    "        i+=1\n",
    "    return embedding_x\n",
    "\n",
    "def weight_function(distance):\n",
    "    '''\n",
    "    Exponentially weighted distance function\n",
    "    \n",
    "    Args:\n",
    "        distance: a vector of distances\n",
    "    Returns:\n",
    "        u_i: normalized exponential weights\n",
    "    '''\n",
    "    \n",
    "    non_indices=np.nonzero(distance)[0]\n",
    "    if len(non_indices) == 0:\n",
    "        norm_distance = 1\n",
    "    else:\n",
    "        norm_distance = distance[non_indices[0]]\n",
    "    weighted_distance = np.exp(-distance/norm_distance)\n",
    "    u_i = weighted_distance/np.sum(weighted_distance)\n",
    "    return u_i\n",
    "\n",
    "\n",
    "def generate_convergent_cross_approx(X,Y,E,tau):\n",
    "    '''\n",
    "    Approximates Y from X by 1) creating an embedding\n",
    "    manifold of X, 2) mapping the neighbours of each point\n",
    "    in the embedding manifold of X to the embedding manifold of \n",
    "    Y, 3) taking a exponetially weighted average of entries of \n",
    "    time series of Y associated the mapped neighbours.\n",
    "    \n",
    "    Args:\n",
    "        X: time series used to estimate Y\n",
    "        Y: time series to be estimated\n",
    "        E: embedding dimension\n",
    "        tau: time shift\n",
    "        \n",
    "    Returns:\n",
    "        Y_approx: a L - (E-1)*tau time series appromixating\n",
    "                  the last L - (E-1)*tau entries of Y.\n",
    "    '''\n",
    "    \n",
    "    #makes X manifold\n",
    "\n",
    "    xhat=make_manifold(X,E,tau)\n",
    "    #number of time points to be approximated\n",
    "    num_time_points = xhat.shape[0]\n",
    "    \n",
    "    #Initialized KNN object with xhat \n",
    "    nbrs = NearestNeighbors(n_neighbors=E+1, algorithm='ball_tree').fit(xhat)    \n",
    "    \n",
    "    # Computes the distance and indices of the E+1\n",
    "    # nearest points of each point in xhat\n",
    "    distances, indices = nbrs.kneighbors()\n",
    "    \n",
    "    # initial Y_approx\n",
    "    Y_approx = np.zeros(num_time_points)\n",
    "    \n",
    "    #TODO: What about first (E-1)*tau points? I can still approximate the\n",
    "    #using the last column of xhat\n",
    "    for i in range(0,num_time_points):\n",
    "        #computes the weight function\n",
    "        u_i = weight_function(distances[i])\n",
    "        #computes y approx\n",
    "        Y_approx[i]= np.dot(Y[indices[i] + (E-1)*tau],u_i)\n",
    "    return Y_approx"
   ]
  },
  {
   "cell_type": "code",
   "execution_count": 3,
   "metadata": {},
   "outputs": [],
   "source": [
    "x0 = np.array([5.0, 5.0])\n",
    "dt = 0.1\n",
    "tinit = 0\n",
    "tmax = 100\n",
    "vdp = dynamicalModels.van_der_pol(2)\n",
    "sol = vdp.integrate(tinit,tmax,dt,x0)\n",
    "E=2\n",
    "tau=1"
   ]
  },
  {
   "cell_type": "markdown",
   "metadata": {},
   "source": [
    "## Causality from position to velocity"
   ]
  },
  {
   "cell_type": "code",
   "execution_count": 4,
   "metadata": {},
   "outputs": [
    {
     "data": {
      "image/png": "[encoded data removed]",
      "text/plain": [
       "<Figure size 432x288 with 1 Axes>"
      ]
     },
     "metadata": {},
     "output_type": "display_data"
    }
   ],
   "source": [
    "CCM_y1 = generate_convergent_cross_approx(sol.y[0,:],sol.y[1,:],E,tau)\n",
    "plt.plot(sol.y[0,(E-1)*tau:],sol.y[1,(E-1)*tau:],'-')\n",
    "plt.plot(sol.y[0,(E-1)*tau:],CCM_y1,'-.')\n",
    "plt.legend(['original dynamical system','cross convergent mapping'],loc=\"upper right\")\n",
    "plt.show()"
   ]
  },
  {
   "cell_type": "markdown",
   "metadata": {},
   "source": [
    "## Causality from position to velocity in Van der pol "
   ]
  },
  {
   "cell_type": "code",
   "execution_count": 5,
   "metadata": {},
   "outputs": [
    {
     "data": {
      "image/png": "[encoded data removed]",
      "text/plain": [
       "<Figure size 432x288 with 1 Axes>"
      ]
     },
     "metadata": {},
     "output_type": "display_data"
    }
   ],
   "source": [
    "CCM_y0 = generate_convergent_cross_approx(sol.y[1,:],sol.y[0,:],E,tau)\n",
    "plt.plot(sol.y[0,(E-1)*tau:],sol.y[1,(E-1)*tau:],'-')\n",
    "plt.plot(CCM_y0,sol.y[1,(E-1)*tau:],'-.')\n",
    "plt.legend(['original dynamical system','cross convergent mapping'],loc=\"upper right\")\n",
    "plt.show()"
   ]
  },
  {
   "cell_type": "code",
   "execution_count": null,
   "metadata": {},
   "outputs": [],
   "source": []
  }
 ],
 "metadata": {
  "kernelspec": {
   "display_name": "Python 3",
   "language": "python",
   "name": "python3"
  },
  "language_info": {
   "codemirror_mode": {
    "name": "ipython",
    "version": 3
   },
   "file_extension": ".py",
   "mimetype": "text/x-python",
   "name": "python",
   "nbconvert_exporter": "python",
   "pygments_lexer": "ipython3",
   "version": "3.6.5"
  }
 },
 "nbformat": 4,
 "nbformat_minor": 1
}
